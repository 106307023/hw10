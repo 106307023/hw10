{
 "cells": [
  {
   "cell_type": "code",
   "execution_count": 18,
   "metadata": {},
   "outputs": [
    {
     "name": "stdout",
     "output_type": "stream",
     "text": [
      "Sum of the array is  34\n"
     ]
    }
   ],
   "source": [
    "def _sum(arr,n): \n",
    "      \n",
    "    # return sum using sum  \n",
    "    # inbuilt sum() function \n",
    "    return(sum(arr)) \n",
    "  \n",
    "# driver function \n",
    "arr=[] \n",
    "# input values to list \n",
    "arr = [12, 3, 4, 15] \n",
    "  \n",
    "# calculating length of array \n",
    "n = len(arr) \n",
    "  \n",
    "ans = _sum(arr,n) \n",
    "  \n",
    "# display sum \n",
    "print('Sum of the array is ',ans)"
   ]
  }
 ],
 "metadata": {
  "kernelspec": {
   "display_name": "Python 3",
   "language": "python",
   "name": "python3"
  },
  "language_info": {
   "codemirror_mode": {
    "name": "ipython",
    "version": 3
   },
   "file_extension": ".py",
   "mimetype": "text/x-python",
   "name": "python",
   "nbconvert_exporter": "python",
   "pygments_lexer": "ipython3",
   "version": "3.6.4"
  }
 },
 "nbformat": 4,
 "nbformat_minor": 2
}
